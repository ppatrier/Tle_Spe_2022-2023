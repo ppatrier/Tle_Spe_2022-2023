{
  "nbformat": 4,
  "nbformat_minor": 0,
  "metadata": {
    "colab": {
      "name": "Algo_seuil.ipynb",
      "provenance": [],
      "collapsed_sections": []
    },
    "kernelspec": {
      "name": "python3",
      "display_name": "Python 3"
    },
    "language_info": {
      "name": "python"
    }
  },
  "cells": [
    {
      "cell_type": "code",
      "execution_count": 12,
      "metadata": {
        "id": "r9KSFfxkoMAK"
      },
      "outputs": [],
      "source": [
        "from math import *\n",
        "\n",
        "def seuil(u0,f,s):\n",
        "  n=0\n",
        "  u=u0\n",
        "  while u<=s:\n",
        "    u=f(u)\n",
        "    n=n+1\n",
        "    print(n, u)"
      ]
    },
    {
      "cell_type": "code",
      "source": [
        "f=lambda x : ...\n",
        "\n",
        "seuil(...,f,...)"
      ],
      "metadata": {
        "colab": {
          "base_uri": "https://localhost:8080/"
        },
        "id": "YV3g3bwxo0uf",
        "outputId": "2daed81a-22a7-442f-8a81-7b238eed119a"
      },
      "execution_count": 13,
      "outputs": [
        {
          "output_type": "stream",
          "name": "stdout",
          "text": [
            "1 1\n",
            "2 2\n",
            "3 5\n",
            "4 26\n",
            "5 677\n"
          ]
        }
      ]
    }
  ]
}