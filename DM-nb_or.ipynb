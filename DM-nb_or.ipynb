{
 "cells": [
  {
   "cell_type": "markdown",
   "id": "224bbe91-276b-481e-ab24-fb5ce7b58a93",
   "metadata": {},
   "source": [
    "# DEVOIR MAISON : suite et nombre d'or"
   ]
  },
  {
   "cell_type": "markdown",
   "id": "06372c08",
   "metadata": {},
   "source": [
    "Le but du problème est de définir le nombre d'or et d'envisager une suite convergeant vers ce nombre d'or."
   ]
  },
  {
   "cell_type": "markdown",
   "id": "462dc36c",
   "metadata": {},
   "source": [
    "## Partie A"
   ]
  },
  {
   "cell_type": "markdown",
   "id": "245e8c8f",
   "metadata": {},
   "source": [
    "1. Résoudre dans $\\mathbb{R}$ l'équation $x^2-x-1=0$.\n",
    "La solution positive, notée $\\phi$, est appelé \"nombre d'or\".\n",
    "\n",
    "2. Démontrer l'égalité $\\phi ^2=\\phi +1$ et $1+\\dfrac{1}{\\phi}=\\phi$."
   ]
  },
  {
   "cell_type": "markdown",
   "id": "7ac5928a",
   "metadata": {},
   "source": [
    "## Partie B"
   ]
  },
  {
   "cell_type": "markdown",
   "id": "ec9ec063",
   "metadata": {},
   "source": [
    "On pose $a_0=2$ et, pour tout entier naturel $n$, $a_{n+1}=1+\\dfrac{1}{a_n}$.\n",
    "\n",
    "1. Montrer que, pour tout entier naturel $n$ non nul, $\\dfrac{3}{2}\\leqslant a_n\\leqslant 2$.\n",
    "2. Prouver que, pour tout entier naturel $n$ non nul, $\\left\\lvert a_{n+1}-\\phi\\right\\rvert\\leqslant \\dfrac{4}{9}\\left\\lvert a_n-\\phi\\right\\rvert$.\n",
    "3. En déduire, par récurrence, que pour tout entier $n$ non nul, $\\left\\lvert a_{n}-\\phi\\right\\rvert\\leqslant \\left( \\dfrac{4}{9}\\right) ^{n-1}\\left\\lvert a_1-\\phi\\right\\rvert$, puis que $\\left\\lvert a_{n}-\\phi\\right\\rvert\\leqslant \\left( \\dfrac{4}{9}\\right) ^n$.\n",
    "4. Prouver que $(a_n)$ est convergente et déterminer sa limite.\n",
    "5. Compléter le programme suivant permettant d'obtenir la rang à partir duquel on obtient une approximation de $\\phi$ à $10^{-10}$ près.\n"
   ]
  },
  {
   "cell_type": "code",
   "execution_count": 1,
   "id": "2eb828ae-1f4c-42fa-9079-04c384ed609d",
   "metadata": {},
   "outputs": [],
   "source": [
    "from math import *\n",
    "\n",
    "n=...\n",
    "\n",
    "while ... :\n",
    "    ...\n",
    "    \n",
    "print(n)"
   ]
  },
  {
   "cell_type": "markdown",
   "id": "ea67b4fd",
   "metadata": {},
   "source": [
    "(rappel : valeur absolue et racine carrée sont données par les fonctions \"abs\" et \"sqrt\" de la bibliothèque math importée)"
   ]
  }
 ],
 "metadata": {
  "kernelspec": {
   "display_name": "Python 3 (ipykernel)",
   "language": "python",
   "name": "python3"
  },
  "language_info": {
   "codemirror_mode": {
    "name": "ipython",
    "version": 3
   },
   "file_extension": ".py",
   "mimetype": "text/x-python",
   "name": "python",
   "nbconvert_exporter": "python",
   "pygments_lexer": "ipython3",
   "version": "3.9.12"
  }
 },
 "nbformat": 4,
 "nbformat_minor": 5
}
